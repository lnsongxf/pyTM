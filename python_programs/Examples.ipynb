{
 "metadata": {
  "name": ""
 },
 "nbformat": 3,
 "nbformat_minor": 0,
 "worksheets": [
  {
   "cells": [
    {
     "cell_type": "markdown",
     "metadata": {},
     "source": [
      "# Examples of Linear State Space Models of Time Series\n",
      "\n",
      "This Ipython Notebook contains some code and uses the Sargent-Stachurski lectures' examples to introduce how to solve Linear State Space Models with python.\n",
      "\n",
      "(Can add more)"
     ]
    },
    {
     "cell_type": "code",
     "collapsed": false,
     "input": [
      "import numpy as np\n",
      "import scipy.signal as sig\n",
      "import matplotlib.pyplot as plt\n",
      "import seaborn as sb\n",
      "%matplotlib inline\n",
      "\n",
      "#----------------------------------------------------------------------#\n",
      "#----------------------------------------------------------------------#\n",
      "# Examples\n",
      "#----------------------------------------------------------------------#\n",
      "#----------------------------------------------------------------------#\n",
      "\n",
      "# All examples will use these parameters\n",
      "num_sims = 1\n",
      "len_sims = 100\n",
      "time_unit = 1.0"
     ],
     "language": "python",
     "metadata": {},
     "outputs": [],
     "prompt_number": 9
    },
    {
     "cell_type": "markdown",
     "metadata": {},
     "source": [
      "## Second-order difference equation\n",
      "\n",
      "Consider a second order difference equation of the form:\n",
      "\\begin{align*}\n",
      "  y_{t+1} = \\alpha + \\rho_1 y_t + \\rho_2 y_{t-1}\n",
      "\\end{align*}\n",
      "subject to initial conditions $y_{-1}, y_{-2}$.  \n",
      "\n",
      "We could write this equation in lag operator form of, where $L^n$ is the nth lag:\n",
      "\\begin{align*}\n",
      "  y_{t+1} - \\rho_1 y_t - \\rho_2 y_{t-1} &= \\alpha \\\\\n",
      "  y_{t+1} \\left( 1 - \\rho_1 L^{1} - \\rho_2 L^{2} \\right) &= \\alpha \\\\\n",
      "  y_{t+1} &= \\frac{\\alpha}{\\left( 1 - \\rho_1 L^{1} - \\rho_2 L^{2} \\right)}\n",
      "\\end{align*}\n",
      "\n",
      "We could also write this equation in a state system by defining:\n",
      "\\begin{align*}\n",
      "  x_t &= \\begin{bmatrix} y_{t+1} \\\\ y_t \\\\ 1 \\end{bmatrix} \\\\\n",
      "  A &= \\begin{bmatrix} \\alpha & 0 & 0 \\\\ 0 & \\rho_1 & \\rho_2 \\\\ 0 & 1 & 0 \\end{bmatrix} \\\\\n",
      "  C &= \\begin{bmatrix} 0 \\\\ 0 \\\\ 0 \\end{bmatrix} \\\\\n",
      "  G &= \\begin{bmatrix} 0 & 1 & 0 \\end{bmatrix}\n",
      "\\end{align*}\n",
      "Then:\n",
      "\\begin{align*}\n",
      "  x_{t+1} &= A x_t + C \\varepsilon_{t+1} \\\\\n",
      "  y_t &= G x_t\n",
      "\\end{align*}\n",
      "Below, we will give ourselves some parameters to proceed by setting:\n",
      "\\begin{align*}\n",
      "  \\alpha &= 1.0 \\\\\n",
      "  \\rho_1 &= .9 \\\\\n",
      "  \\rho_2 &= .5 \\\\\n",
      "\\end{align*}"
     ]
    },
    {
     "cell_type": "code",
     "collapsed": false,
     "input": [
      "#----------------------------------------------------------------------#\n",
      "# Second-order difference equation\n",
      "#----------------------------------------------------------------------#\n",
      "\n",
      "# Initial conditions\n",
      "ym = 1.0\n",
      "ymm = 1.0\n",
      "\n",
      "# Take parameters as given\n",
      "sode_alpha = 1.0\n",
      "sode_rho1 = .5\n",
      "sode_rho2 = -.7\n",
      "\n",
      "# Define the numerator and denominator\n",
      "sode_num = [sode_alpha]\n",
      "sode_den = [1., -sode_rho1, -sode_rho2]"
     ],
     "language": "python",
     "metadata": {},
     "outputs": [],
     "prompt_number": 4
    },
    {
     "cell_type": "markdown",
     "metadata": {},
     "source": [
      "We can use the scipy.signal library to find what A, C, G are.  It is important to note that the scipy.signal library gives us A, B, C, D and they don't correspond to exactly the same set-up as we have presented.  We get that:\n",
      "\\begin{align*}\n",
      "  x_{t+1} &= A x_t + B \\varepsilon_{t+1} \\\\\n",
      "  y_{t+1} &= C x_t + D \\varepsilon_{t+1} \n",
      "\\end{align*}"
     ]
    },
    {
     "cell_type": "code",
     "collapsed": false,
     "input": [
      "# Create the State Space representation\n",
      "A, B, C, D = sig.tf2ss(sode_num, sode_den)\n",
      "print(\"The State Space representation is: \\n A = {} \\n B = {} \\n C = {} \\n D = {}\".format(A, B, C, D))"
     ],
     "language": "python",
     "metadata": {},
     "outputs": [
      {
       "output_type": "stream",
       "stream": "stdout",
       "text": [
        "The State Space representation is: \n",
        " A = [[ 0.5 -0.7]\n",
        " [ 1.   0. ]] \n",
        " B = [[ 1.]\n",
        " [ 0.]] \n",
        " C = [[ 0.  1.]] \n",
        " D = [ 0.]\n"
       ]
      }
     ],
     "prompt_number": 5
    },
    {
     "cell_type": "code",
     "collapsed": false,
     "input": [
      "# Simulate using the State Space representation\n",
      "sode_yss = np.zeros((2, len_sims))\n",
      "\n",
      "sode_yss[:, 0] = np.array([ym, ymm])\n",
      "\n",
      "for i in xrange(len_sims-1):\n",
      "    sode_yss[:, i+1] = np.dot(A, sode_yss[:, i])\n",
      "\n",
      "# Get back the evolution of states\n",
      "sode_xss = np.dot(C, sode_yss).squeeze()\n",
      "\n",
      "plt.plot(sode_xss)\n",
      "plt.show()"
     ],
     "language": "python",
     "metadata": {},
     "outputs": [
      {
       "metadata": {},
       "output_type": "display_data",
       "png": "[encoded data removed]",
       "text": [
        "<matplotlib.figure.Figure at 0x19f3610>"
       ]
      }
     ],
     "prompt_number": 12
    },
    {
     "cell_type": "code",
     "collapsed": false,
     "input": [
      "# Simulate using the scipy.signal stuff (Probably doing same thing we just typed)\n",
      "\n",
      "\n",
      "sode_shocks = np.zeros((1, len_sims))\n",
      "\n",
      "# Give it the num, den, and unit of time\n",
      "sode_sys = (sode_num, sode_den, time_unit)\n",
      "\n",
      "sode_t, sode_xnd = sig.dlsim(sode_sys, sode_shocks.T, x0=1.)\n",
      "\n",
      "plt.plot(sode_t, sode_xnd)\n",
      "plt.show()"
     ],
     "language": "python",
     "metadata": {},
     "outputs": [
      {
       "metadata": {},
       "output_type": "display_data",
       "png": "[encoded data removed]",
       "text": [
        "<matplotlib.figure.Figure at 0x47d06d0>"
       ]
      }
     ],
     "prompt_number": 10
    },
    {
     "cell_type": "markdown",
     "metadata": {},
     "source": [
      "## Univariate Autoregressive Processes\n",
      "\n",
      "Consider the univariate autoregressive process:\n",
      "\\begin{align*}\n",
      "  y_{t+1} = \\alpha_1 y_t + \\alpha_2 y_{t-1} + \\alpha_3 y_{t-2} + \\alpha_4 y_{t-3}\n",
      "\\end{align*}\n",
      "subject to initial conditions $y_{-3}, y_{-2}, y_{-1}, y_0$\n",
      "\n",
      "Once again we can solve for this as a lag operator.  Simple algebra procides us that:\n",
      "\\begin{align*}\n",
      "  y_{t+1} = \\frac{1}{1 - \\alpha_1 L - \\alpha_2 L^2 - \\alpha_3 L^3 - \\alpha_4 L^4}\n",
      "\\end{align*}"
     ]
    },
    {
     "cell_type": "code",
     "collapsed": false,
     "input": [
      "#----------------------------------------------------------------------#\n",
      "# Univariate Autoregressive Processes\n",
      "# y_{t+1} = \\alpha_1 y_t + \\alpha_2 y_{t-1} + \\alpha_3 y_{t-2}\n",
      "#           + \\alpha_4 y_{t-3}\n",
      "#----------------------------------------------------------------------#\n",
      "\n",
      "# Take parameters as given\n",
      "uar_alpha1 = .5\n",
      "uar_alpha2 = 0.3\n",
      "uar_alpha3 = -0.5\n",
      "uar_alpha4 = -0.3\n",
      "\n",
      "# Define the initial condition, numerator and denominator\n",
      "uar_x0 = 10.\n",
      "uar_num = [1.]\n",
      "uar_den = [1., -uar_alpha1, -uar_alpha2, -uar_alpha3, -uar_alpha4]\n",
      "\n",
      "uar_simulations = np.zeros((num_sims, len_sims))\n",
      "uar_sys = (uar_num, uar_den, time_unit)\n",
      "\n",
      "# Use num and den to do simulation\n",
      "for i in xrange(num_sims):\n",
      "    # Draw the epsilon shocks\n",
      "    uar_eps = np.random.randn(len_sims-1, 1)\n",
      "\n",
      "    # this stores the discrete impluse response\n",
      "    t_out, y = sig.dlsim(uar_sys, uar_eps, x0=uar_x0)\n",
      "\n",
      "    # store x0 in the first position and from position 1:T-1 store the computed impulse repsonse\n",
      "    uar_simulations[i,0],uar_simulations[i,1:]=uar_x0,y.T\n",
      "\n",
      "plt.plot(y)\n",
      "plt.plot(uar_eps)\n",
      "plt.show()"
     ],
     "language": "python",
     "metadata": {},
     "outputs": []
    }
   ],
   "metadata": {}
  }
 ]
}